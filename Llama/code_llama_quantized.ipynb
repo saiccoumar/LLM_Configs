{
 "cells": [
  {
   "cell_type": "code",
   "execution_count": 1,
   "metadata": {},
   "outputs": [
    {
     "name": "stderr",
     "output_type": "stream",
     "text": [
      "/home/saicoumar/.local/lib/python3.10/site-packages/tqdm/auto.py:21: TqdmWarning: IProgress not found. Please update jupyter and ipywidgets. See https://ipywidgets.readthedocs.io/en/stable/user_install.html\n",
      "  from .autonotebook import tqdm as notebook_tqdm\n"
     ]
    }
   ],
   "source": [
    "# Imports\n",
    "from transformers import AutoTokenizer, AutoModelForCausalLM, BitsAndBytesConfig\n",
    "from huggingface_hub import login\n",
    "import torch\n",
    "\n",
    "# Bits and bytes quantizes CodeLlama. My testing saw a decrease of computation speed by a factor of 15x.\n",
    "model_name = \"codellama/CodeLlama-7b-Instruct-hf\"\n",
    "quantization_config = BitsAndBytesConfig(\n",
    "   load_in_4bit=True,\n",
    "   bnb_4bit_compute_dtype=torch.float16\n",
    ")\n",
    "\n",
    "# Login if Necessary\n",
    "# hf_token = \"\"\n",
    "# with open(\"hugging_face_token.txt\",\"r\") as f:\n",
    "#     hf_token = f.readline()\n",
    "# login(hf_token)"
   ]
  },
  {
   "cell_type": "code",
   "execution_count": 2,
   "metadata": {},
   "outputs": [],
   "source": [
    "# Tokenizer. An LLM model has some process of tokenizing text into numbers and this pretrained tokenizer needs to be imported.\n",
    "tokenizer = AutoTokenizer.from_pretrained(model_name)"
   ]
  },
  {
   "cell_type": "code",
   "execution_count": 3,
   "metadata": {},
   "outputs": [
    {
     "name": "stderr",
     "output_type": "stream",
     "text": [
      "Loading checkpoint shards: 100%|██████████| 2/2 [00:06<00:00,  3.33s/it]\n"
     ]
    }
   ],
   "source": [
    "# Importing the model. The LLM model is downloaded and quantized with our config. This can take up to 10 minutes to download (model can be several gigabytes) \n",
    "model = AutoModelForCausalLM.from_pretrained(\n",
    "    model_name,\n",
    "    quantization_config=quantization_config,\n",
    "    device_map=\"auto\",\n",
    ")"
   ]
  },
  {
   "cell_type": "code",
   "execution_count": 8,
   "metadata": {},
   "outputs": [
    {
     "name": "stderr",
     "output_type": "stream",
     "text": [
      "The attention mask and the pad token id were not set. As a consequence, you may observe unexpected behavior. Please pass your input's `attention_mask` to obtain reliable results.\n",
      "Setting `pad_token_id` to `eos_token_id`:2 for open-end generation.\n"
     ]
    },
    {
     "name": "stdout",
     "output_type": "stream",
     "text": [
      "<s>  <<SYS>>\\nWrite python code to solve the following coding problem that obeys the constraints. Please wrap your code answer using ``` and do not include explanations. \\n<</SYS>>\\n\\n[INST]Write a function that prints numbers from 1-10[/INST]  ```\n",
      "def print_numbers(n):\n",
      "    for i in range(1, n+1):\n",
      "        print(i)\n",
      "```</s>\n"
     ]
    }
   ],
   "source": [
    "# Prompt Engineering. Format the prompt such that the LLM will process it and give us a desired output. Selective prompts can decrease computation time. \n",
    "sys = \"Write python code to solve the following coding problem that obeys the constraints. Please wrap your code answer using ``` and do not include explanations. \"\n",
    "user = \"Write a function that prints numbers from 1-10\"\n",
    "prompt = f\"<s> <<SYS>>\\\\n{sys}\\\\n<</SYS>>\\\\n\\\\n[INST]{user}[/INST]\"\n",
    "\n",
    "# Encode prompt\n",
    "inputs = tokenizer(prompt, return_tensors=\"pt\", add_special_tokens=False).to(\"cuda\")\n",
    "\n",
    "# Generate output. Model parameters can be found: https://huggingface.co/docs/transformers/en/main_classes/text_generation\n",
    "output = model.generate(\n",
    "    inputs[\"input_ids\"],\n",
    "    do_sample=True,\n",
    "    top_p=0.9,\n",
    "    temperature=0.1,\n",
    ")\n",
    "\n",
    "# Decode and print output\n",
    "output = output[0].to(\"cpu\")\n",
    "print(tokenizer.decode(output))"
   ]
  }
 ],
 "metadata": {
  "kernelspec": {
   "display_name": "Python 3",
   "language": "python",
   "name": "python3"
  },
  "language_info": {
   "codemirror_mode": {
    "name": "ipython",
    "version": 3
   },
   "file_extension": ".py",
   "mimetype": "text/x-python",
   "name": "python",
   "nbconvert_exporter": "python",
   "pygments_lexer": "ipython3",
   "version": "3.10.12"
  }
 },
 "nbformat": 4,
 "nbformat_minor": 2
}
